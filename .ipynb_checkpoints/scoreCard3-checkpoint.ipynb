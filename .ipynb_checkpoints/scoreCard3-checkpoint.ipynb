{
 "cells": [
  {
   "cell_type": "markdown",
   "metadata": {},
   "source": [
    "### 建立评分卡过程\n",
    "#### 导入数据\n",
    "\n",
    "#### 探索性数据分析（EDA）Exploratory Data Analysis (EDA) is an open-ended process where we calculate statistics and make figures to find trends, anomalies, patterns, or relationships within the data. The goal of EDA is to learn what our data can tell us. It generally starts out with a high level overview, then narrows in to specific areas as we find intriguing areas of the data. The findings may be interesting in their own right, or they can be used to inform our modeling choices, such as by helping us decide which features to use.在这个过程中我们可以计算一些统计数据并可以画图，从中我们可以发现一些趋势，异常值，形态和数据之间的关系\n",
    "\n",
    "#### 特征工程 Kaggle competitions are won by feature engineering: those win are those who can create the most useful features out of the data. (This is true for the most part as the winning models, at least for structured data, all tend to be variants on gradient boosting). This represents one of the patterns in machine learning: feature engineering has a greater return on investment than model building and hyperparameter tuning. This is a great article on the subject). As Andrew Ng is fond of saying: \"applied machine learning is basically feature engineering.\" While choosing the right model and optimal settings are important, the model can only learn from the data it is given. Making sure this data is as relevant to the task as possible is the job of the data scientist (and maybe some automated tools to help us out). Feature engineering refers to a geneal process and can involve both feature construction: adding new features from the existing data, and feature selection: choosing only the most important features or other methods of dimensionality reduction. There are many techniques we can use to both create features and select features. 特征工程主要有特征构建和特征选择（包括选这或降维 Polynomial features Domain knowledge features\n",
    "\n",
    "#### 建模，得到评分卡"
   ]
  },
  {
   "cell_type": "code",
   "execution_count": 1,
   "metadata": {},
   "outputs": [],
   "source": [
    "import numpy as np\n",
    "import pandas as pd\n",
    "import seaborn as sns\n",
    "import matplotlib.pyplot as plt"
   ]
  },
  {
   "cell_type": "code",
   "execution_count": 2,
   "metadata": {},
   "outputs": [],
   "source": [
    "data_set = pd.read_csv('cs-training.csv')"
   ]
  },
  {
   "cell_type": "code",
   "execution_count": 3,
   "metadata": {},
   "outputs": [
    {
     "data": {
      "text/html": [
       "<div>\n",
       "<style scoped>\n",
       "    .dataframe tbody tr th:only-of-type {\n",
       "        vertical-align: middle;\n",
       "    }\n",
       "\n",
       "    .dataframe tbody tr th {\n",
       "        vertical-align: top;\n",
       "    }\n",
       "\n",
       "    .dataframe thead th {\n",
       "        text-align: right;\n",
       "    }\n",
       "</style>\n",
       "<table border=\"1\" class=\"dataframe\">\n",
       "  <thead>\n",
       "    <tr style=\"text-align: right;\">\n",
       "      <th></th>\n",
       "      <th>Unnamed: 0</th>\n",
       "      <th>SeriousDlqin2yrs</th>\n",
       "      <th>RevolvingUtilizationOfUnsecuredLines</th>\n",
       "      <th>age</th>\n",
       "      <th>NumberOfTime30-59DaysPastDueNotWorse</th>\n",
       "      <th>DebtRatio</th>\n",
       "      <th>MonthlyIncome</th>\n",
       "      <th>NumberOfOpenCreditLinesAndLoans</th>\n",
       "      <th>NumberOfTimes90DaysLate</th>\n",
       "      <th>NumberRealEstateLoansOrLines</th>\n",
       "      <th>NumberOfTime60-89DaysPastDueNotWorse</th>\n",
       "      <th>NumberOfDependents</th>\n",
       "    </tr>\n",
       "  </thead>\n",
       "  <tbody>\n",
       "    <tr>\n",
       "      <th>0</th>\n",
       "      <td>1</td>\n",
       "      <td>1</td>\n",
       "      <td>0.766127</td>\n",
       "      <td>45</td>\n",
       "      <td>2</td>\n",
       "      <td>0.802982</td>\n",
       "      <td>9120.0</td>\n",
       "      <td>13</td>\n",
       "      <td>0</td>\n",
       "      <td>6</td>\n",
       "      <td>0</td>\n",
       "      <td>2.0</td>\n",
       "    </tr>\n",
       "    <tr>\n",
       "      <th>1</th>\n",
       "      <td>2</td>\n",
       "      <td>0</td>\n",
       "      <td>0.957151</td>\n",
       "      <td>40</td>\n",
       "      <td>0</td>\n",
       "      <td>0.121876</td>\n",
       "      <td>2600.0</td>\n",
       "      <td>4</td>\n",
       "      <td>0</td>\n",
       "      <td>0</td>\n",
       "      <td>0</td>\n",
       "      <td>1.0</td>\n",
       "    </tr>\n",
       "    <tr>\n",
       "      <th>2</th>\n",
       "      <td>3</td>\n",
       "      <td>0</td>\n",
       "      <td>0.658180</td>\n",
       "      <td>38</td>\n",
       "      <td>1</td>\n",
       "      <td>0.085113</td>\n",
       "      <td>3042.0</td>\n",
       "      <td>2</td>\n",
       "      <td>1</td>\n",
       "      <td>0</td>\n",
       "      <td>0</td>\n",
       "      <td>0.0</td>\n",
       "    </tr>\n",
       "    <tr>\n",
       "      <th>3</th>\n",
       "      <td>4</td>\n",
       "      <td>0</td>\n",
       "      <td>0.233810</td>\n",
       "      <td>30</td>\n",
       "      <td>0</td>\n",
       "      <td>0.036050</td>\n",
       "      <td>3300.0</td>\n",
       "      <td>5</td>\n",
       "      <td>0</td>\n",
       "      <td>0</td>\n",
       "      <td>0</td>\n",
       "      <td>0.0</td>\n",
       "    </tr>\n",
       "    <tr>\n",
       "      <th>4</th>\n",
       "      <td>5</td>\n",
       "      <td>0</td>\n",
       "      <td>0.907239</td>\n",
       "      <td>49</td>\n",
       "      <td>1</td>\n",
       "      <td>0.024926</td>\n",
       "      <td>63588.0</td>\n",
       "      <td>7</td>\n",
       "      <td>0</td>\n",
       "      <td>1</td>\n",
       "      <td>0</td>\n",
       "      <td>0.0</td>\n",
       "    </tr>\n",
       "  </tbody>\n",
       "</table>\n",
       "</div>"
      ],
      "text/plain": [
       "   Unnamed: 0  SeriousDlqin2yrs  RevolvingUtilizationOfUnsecuredLines  age  \\\n",
       "0           1                 1                              0.766127   45   \n",
       "1           2                 0                              0.957151   40   \n",
       "2           3                 0                              0.658180   38   \n",
       "3           4                 0                              0.233810   30   \n",
       "4           5                 0                              0.907239   49   \n",
       "\n",
       "   NumberOfTime30-59DaysPastDueNotWorse  DebtRatio  MonthlyIncome  \\\n",
       "0                                     2   0.802982         9120.0   \n",
       "1                                     0   0.121876         2600.0   \n",
       "2                                     1   0.085113         3042.0   \n",
       "3                                     0   0.036050         3300.0   \n",
       "4                                     1   0.024926        63588.0   \n",
       "\n",
       "   NumberOfOpenCreditLinesAndLoans  NumberOfTimes90DaysLate  \\\n",
       "0                               13                        0   \n",
       "1                                4                        0   \n",
       "2                                2                        1   \n",
       "3                                5                        0   \n",
       "4                                7                        0   \n",
       "\n",
       "   NumberRealEstateLoansOrLines  NumberOfTime60-89DaysPastDueNotWorse  \\\n",
       "0                             6                                     0   \n",
       "1                             0                                     0   \n",
       "2                             0                                     0   \n",
       "3                             0                                     0   \n",
       "4                             1                                     0   \n",
       "\n",
       "   NumberOfDependents  \n",
       "0                 2.0  \n",
       "1                 1.0  \n",
       "2                 0.0  \n",
       "3                 0.0  \n",
       "4                 0.0  "
      ]
     },
     "execution_count": 3,
     "metadata": {},
     "output_type": "execute_result"
    }
   ],
   "source": [
    "data_set.head()"
   ]
  },
  {
   "cell_type": "code",
   "execution_count": 4,
   "metadata": {},
   "outputs": [
    {
     "name": "stdout",
     "output_type": "stream",
     "text": [
      "<class 'pandas.core.frame.DataFrame'>\n",
      "RangeIndex: 150000 entries, 0 to 149999\n",
      "Data columns (total 12 columns):\n",
      "Unnamed: 0                              150000 non-null int64\n",
      "SeriousDlqin2yrs                        150000 non-null int64\n",
      "RevolvingUtilizationOfUnsecuredLines    150000 non-null float64\n",
      "age                                     150000 non-null int64\n",
      "NumberOfTime30-59DaysPastDueNotWorse    150000 non-null int64\n",
      "DebtRatio                               150000 non-null float64\n",
      "MonthlyIncome                           120269 non-null float64\n",
      "NumberOfOpenCreditLinesAndLoans         150000 non-null int64\n",
      "NumberOfTimes90DaysLate                 150000 non-null int64\n",
      "NumberRealEstateLoansOrLines            150000 non-null int64\n",
      "NumberOfTime60-89DaysPastDueNotWorse    150000 non-null int64\n",
      "NumberOfDependents                      146076 non-null float64\n",
      "dtypes: float64(4), int64(8)\n",
      "memory usage: 13.7 MB\n"
     ]
    }
   ],
   "source": [
    "data_set.info()"
   ]
  },
  {
   "cell_type": "markdown",
   "metadata": {},
   "source": [
    "### EDA\n",
    "#### 1、查看target列，查看是否是不平衡数据集"
   ]
  },
  {
   "cell_type": "code",
   "execution_count": 5,
   "metadata": {},
   "outputs": [],
   "source": [
    "data_target = data_set['SeriousDlqin2yrs']"
   ]
  },
  {
   "cell_type": "code",
   "execution_count": 6,
   "metadata": {},
   "outputs": [
    {
     "data": {
      "text/plain": [
       "<matplotlib.axes._subplots.AxesSubplot at 0x19622201828>"
      ]
     },
     "execution_count": 6,
     "metadata": {},
     "output_type": "execute_result"
    },
    {
     "data": {
      "image/png": "[encoded data removed]",
      "text/plain": [
       "<Figure size 432x288 with 1 Axes>"
      ]
     },
     "metadata": {
      "needs_background": "light"
     },
     "output_type": "display_data"
    }
   ],
   "source": [
    "data_target.value_counts().plot(kind='bar')"
   ]
  },
  {
   "cell_type": "code",
   "execution_count": 7,
   "metadata": {},
   "outputs": [
    {
     "name": "stdout",
     "output_type": "stream",
     "text": [
      "少数类样本的比例是：6.68%\n"
     ]
    }
   ],
   "source": [
    "print('少数类样本的比例是：{:0.2f}%'.format(data_target.value_counts().iloc[1]/len(data_target) * 100))"
   ]
  },
  {
   "cell_type": "markdown",
   "metadata": {},
   "source": [
    "####  少数类样本数目少于总体数目的10%，从图中可以看出该问题是不平衡数据集的问题，如果少数类样本特别少的话，可以考虑使用异常检测的方法来进行判断"
   ]
  },
  {
   "cell_type": "markdown",
   "metadata": {},
   "source": [
    "#### 替换列的名字，方便处理"
   ]
  },
  {
   "cell_type": "code",
   "execution_count": 8,
   "metadata": {},
   "outputs": [
    {
     "data": {
      "text/plain": [
       "Index(['Unnamed: 0', 'SeriousDlqin2yrs',\n",
       "       'RevolvingUtilizationOfUnsecuredLines', 'age',\n",
       "       'NumberOfTime30-59DaysPastDueNotWorse', 'DebtRatio', 'MonthlyIncome',\n",
       "       'NumberOfOpenCreditLinesAndLoans', 'NumberOfTimes90DaysLate',\n",
       "       'NumberRealEstateLoansOrLines', 'NumberOfTime60-89DaysPastDueNotWorse',\n",
       "       'NumberOfDependents'],\n",
       "      dtype='object')"
      ]
     },
     "execution_count": 8,
     "metadata": {},
     "output_type": "execute_result"
    }
   ],
   "source": [
    "data_set.columns"
   ]
  },
  {
   "cell_type": "code",
   "execution_count": 9,
   "metadata": {},
   "outputs": [],
   "source": [
    "columns = ({'SeriousDlqin2yrs' : 'target', \n",
    "            'RevolvingUtilizationOfUnsecuredLines' : 'percentage',\n",
    "           'NumberOfTime30-59DaysPastDueNotWorse':'30-59',\n",
    "           'NumberOfOpenCreditLinesAndLoans': 'open_loan',\n",
    "            'NumberOfTimes90DaysLate' : '90-',\n",
    "           'NumberRealEstateLoansOrLines' : 'estate_loan',\n",
    "           'NumberOfTime60-89DaysPastDueNotWorse': '60-89',\n",
    "           'NumberOfDependents' : 'Dependents'})"
   ]
  },
  {
   "cell_type": "code",
   "execution_count": 10,
   "metadata": {},
   "outputs": [],
   "source": [
    "data_set.drop(columns=['Unnamed: 0'], inplace=True)\n",
    "data_set.rename(columns=columns, inplace=True)"
   ]
  },
  {
   "cell_type": "code",
   "execution_count": 11,
   "metadata": {},
   "outputs": [
    {
     "data": {
      "text/html": [
       "<div>\n",
       "<style scoped>\n",
       "    .dataframe tbody tr th:only-of-type {\n",
       "        vertical-align: middle;\n",
       "    }\n",
       "\n",
       "    .dataframe tbody tr th {\n",
       "        vertical-align: top;\n",
       "    }\n",
       "\n",
       "    .dataframe thead th {\n",
       "        text-align: right;\n",
       "    }\n",
       "</style>\n",
       "<table border=\"1\" class=\"dataframe\">\n",
       "  <thead>\n",
       "    <tr style=\"text-align: right;\">\n",
       "      <th></th>\n",
       "      <th>target</th>\n",
       "      <th>percentage</th>\n",
       "      <th>age</th>\n",
       "      <th>30-59</th>\n",
       "      <th>DebtRatio</th>\n",
       "      <th>MonthlyIncome</th>\n",
       "      <th>open_loan</th>\n",
       "      <th>90-</th>\n",
       "      <th>estate_loan</th>\n",
       "      <th>60-89</th>\n",
       "      <th>Dependents</th>\n",
       "    </tr>\n",
       "  </thead>\n",
       "  <tbody>\n",
       "    <tr>\n",
       "      <th>0</th>\n",
       "      <td>1</td>\n",
       "      <td>0.766127</td>\n",
       "      <td>45</td>\n",
       "      <td>2</td>\n",
       "      <td>0.802982</td>\n",
       "      <td>9120.0</td>\n",
       "      <td>13</td>\n",
       "      <td>0</td>\n",
       "      <td>6</td>\n",
       "      <td>0</td>\n",
       "      <td>2.0</td>\n",
       "    </tr>\n",
       "    <tr>\n",
       "      <th>1</th>\n",
       "      <td>0</td>\n",
       "      <td>0.957151</td>\n",
       "      <td>40</td>\n",
       "      <td>0</td>\n",
       "      <td>0.121876</td>\n",
       "      <td>2600.0</td>\n",
       "      <td>4</td>\n",
       "      <td>0</td>\n",
       "      <td>0</td>\n",
       "      <td>0</td>\n",
       "      <td>1.0</td>\n",
       "    </tr>\n",
       "    <tr>\n",
       "      <th>2</th>\n",
       "      <td>0</td>\n",
       "      <td>0.658180</td>\n",
       "      <td>38</td>\n",
       "      <td>1</td>\n",
       "      <td>0.085113</td>\n",
       "      <td>3042.0</td>\n",
       "      <td>2</td>\n",
       "      <td>1</td>\n",
       "      <td>0</td>\n",
       "      <td>0</td>\n",
       "      <td>0.0</td>\n",
       "    </tr>\n",
       "    <tr>\n",
       "      <th>3</th>\n",
       "      <td>0</td>\n",
       "      <td>0.233810</td>\n",
       "      <td>30</td>\n",
       "      <td>0</td>\n",
       "      <td>0.036050</td>\n",
       "      <td>3300.0</td>\n",
       "      <td>5</td>\n",
       "      <td>0</td>\n",
       "      <td>0</td>\n",
       "      <td>0</td>\n",
       "      <td>0.0</td>\n",
       "    </tr>\n",
       "    <tr>\n",
       "      <th>4</th>\n",
       "      <td>0</td>\n",
       "      <td>0.907239</td>\n",
       "      <td>49</td>\n",
       "      <td>1</td>\n",
       "      <td>0.024926</td>\n",
       "      <td>63588.0</td>\n",
       "      <td>7</td>\n",
       "      <td>0</td>\n",
       "      <td>1</td>\n",
       "      <td>0</td>\n",
       "      <td>0.0</td>\n",
       "    </tr>\n",
       "  </tbody>\n",
       "</table>\n",
       "</div>"
      ],
      "text/plain": [
       "   target  percentage  age  30-59  DebtRatio  MonthlyIncome  open_loan  90-  \\\n",
       "0       1    0.766127   45      2   0.802982         9120.0         13    0   \n",
       "1       0    0.957151   40      0   0.121876         2600.0          4    0   \n",
       "2       0    0.658180   38      1   0.085113         3042.0          2    1   \n",
       "3       0    0.233810   30      0   0.036050         3300.0          5    0   \n",
       "4       0    0.907239   49      1   0.024926        63588.0          7    0   \n",
       "\n",
       "   estate_loan  60-89  Dependents  \n",
       "0            6      0         2.0  \n",
       "1            0      0         1.0  \n",
       "2            0      0         0.0  \n",
       "3            0      0         0.0  \n",
       "4            1      0         0.0  "
      ]
     },
     "execution_count": 11,
     "metadata": {},
     "output_type": "execute_result"
    }
   ],
   "source": [
    "data_set.head()"
   ]
  },
  {
   "cell_type": "markdown",
   "metadata": {},
   "source": [
    "#### 2、处理缺失值\n",
    "#### 查看有缺失值的特征以及缺失的数量"
   ]
  },
  {
   "cell_type": "code",
   "execution_count": 12,
   "metadata": {},
   "outputs": [
    {
     "name": "stdout",
     "output_type": "stream",
     "text": [
      "<class 'pandas.core.frame.DataFrame'>\n",
      "RangeIndex: 150000 entries, 0 to 149999\n",
      "Data columns (total 11 columns):\n",
      "target           150000 non-null int64\n",
      "percentage       150000 non-null float64\n",
      "age              150000 non-null int64\n",
      "30-59            150000 non-null int64\n",
      "DebtRatio        150000 non-null float64\n",
      "MonthlyIncome    120269 non-null float64\n",
      "open_loan        150000 non-null int64\n",
      "90-              150000 non-null int64\n",
      "estate_loan      150000 non-null int64\n",
      "60-89            150000 non-null int64\n",
      "Dependents       146076 non-null float64\n",
      "dtypes: float64(4), int64(7)\n",
      "memory usage: 12.6 MB\n"
     ]
    }
   ],
   "source": [
    "data_set.info()"
   ]
  },
  {
   "cell_type": "markdown",
   "metadata": {},
   "source": [
    "#### 构建一个有缺失值的表格"
   ]
  },
  {
   "cell_type": "code",
   "execution_count": 13,
   "metadata": {},
   "outputs": [],
   "source": [
    "def missing_values_table(df):\n",
    "    mis_val = data_set.isnull().sum()\n",
    "    mis_val_percent = data_set.isnull().sum() / len(data_set)\n",
    "    mis_val_table = pd.concat([mis_val, mis_val_percent], axis=1)\n",
    "    mis_val_table_ren_columns = mis_val_table.rename(\n",
    "        columns = {0 : 'Missing Values', 1: '% of Total Values'})\n",
    "    mis_val_table_ren_columns = mis_val_table_ren_columns[\n",
    "        mis_val_table_ren_columns.iloc[:, 1] != 0].sort_values(\n",
    "        by='Missing Values').round(2)\n",
    "    print('You selected dataframe has ' +  str(df.shape[1]) + ' columns.\\n'\n",
    "         'There are ' + str(mis_val_table_ren_columns.shape[0]) + \n",
    "                          ' columns that have missing values.')\n",
    "    return mis_val_table_ren_columns"
   ]
  },
  {
   "cell_type": "code",
   "execution_count": 14,
   "metadata": {},
   "outputs": [
    {
     "name": "stdout",
     "output_type": "stream",
     "text": [
      "You selected dataframe has 11 columns.\n",
      "There are 2 columns that have missing values.\n"
     ]
    },
    {
     "data": {
      "text/html": [
       "<div>\n",
       "<style scoped>\n",
       "    .dataframe tbody tr th:only-of-type {\n",
       "        vertical-align: middle;\n",
       "    }\n",
       "\n",
       "    .dataframe tbody tr th {\n",
       "        vertical-align: top;\n",
       "    }\n",
       "\n",
       "    .dataframe thead th {\n",
       "        text-align: right;\n",
       "    }\n",
       "</style>\n",
       "<table border=\"1\" class=\"dataframe\">\n",
       "  <thead>\n",
       "    <tr style=\"text-align: right;\">\n",
       "      <th></th>\n",
       "      <th>Missing Values</th>\n",
       "      <th>% of Total Values</th>\n",
       "    </tr>\n",
       "  </thead>\n",
       "  <tbody>\n",
       "    <tr>\n",
       "      <th>Dependents</th>\n",
       "      <td>3924</td>\n",
       "      <td>0.03</td>\n",
       "    </tr>\n",
       "    <tr>\n",
       "      <th>MonthlyIncome</th>\n",
       "      <td>29731</td>\n",
       "      <td>0.20</td>\n",
       "    </tr>\n",
       "  </tbody>\n",
       "</table>\n",
       "</div>"
      ],
      "text/plain": [
       "               Missing Values  % of Total Values\n",
       "Dependents               3924               0.03\n",
       "MonthlyIncome           29731               0.20"
      ]
     },
     "execution_count": 14,
     "metadata": {},
     "output_type": "execute_result"
    }
   ],
   "source": [
    "missing_values_table(data_set)"
   ]
  },
  {
   "cell_type": "markdown",
   "metadata": {},
   "source": [
    "#### 可以看出这个数据集中有两个，对于少量的缺失值可以直接删去，对于较多的确实值可以进行填补，用中值、均值或众数进行填补，也可以用算法填补一些预测并填补一些缺失值，如果特征时离散的可以作为一个新的类，或是在离散化时作为一个新的类，如果数量特别多，可以直接舍弃"
   ]
  },
  {
   "cell_type": "code",
   "execution_count": 15,
   "metadata": {},
   "outputs": [],
   "source": [
    "data_set.dropna(axis=0, subset=['Dependents'], inplace=True)"
   ]
  },
  {
   "cell_type": "code",
   "execution_count": 16,
   "metadata": {},
   "outputs": [
    {
     "name": "stdout",
     "output_type": "stream",
     "text": [
      "<class 'pandas.core.frame.DataFrame'>\n",
      "Int64Index: 146076 entries, 0 to 149999\n",
      "Data columns (total 11 columns):\n",
      "target           146076 non-null int64\n",
      "percentage       146076 non-null float64\n",
      "age              146076 non-null int64\n",
      "30-59            146076 non-null int64\n",
      "DebtRatio        146076 non-null float64\n",
      "MonthlyIncome    120269 non-null float64\n",
      "open_loan        146076 non-null int64\n",
      "90-              146076 non-null int64\n",
      "estate_loan      146076 non-null int64\n",
      "60-89            146076 non-null int64\n",
      "Dependents       146076 non-null float64\n",
      "dtypes: float64(4), int64(7)\n",
      "memory usage: 13.4 MB\n"
     ]
    }
   ],
   "source": [
    "data_set.info()"
   ]
  },
  {
   "cell_type": "code",
   "execution_count": 17,
   "metadata": {
    "scrolled": true
   },
   "outputs": [],
   "source": [
    "data_set.reset_index(inplace=True)"
   ]
  },
  {
   "cell_type": "code",
   "execution_count": 18,
   "metadata": {},
   "outputs": [],
   "source": [
    "# 用中值进行填充\n",
    "mon_incom = data_set.MonthlyIncome.copy()\n",
    "mon_incom.fillna(mon_incom.median(), inplace=True)"
   ]
  },
  {
   "cell_type": "code",
   "execution_count": 19,
   "metadata": {},
   "outputs": [],
   "source": [
    "# 用gbdt算法进行填充\n",
    "mon_train_data = data_set.loc[data_set.MonthlyIncome.notnull()]\n",
    "mon_predict_data = data_set.loc[data_set.MonthlyIncome.isnull()]\n",
    "mon_train_X = mon_train_data.drop(columns=['target', 'MonthlyIncome'])\n",
    "mon_train_y = mon_train_data['MonthlyIncome']\n",
    "mon_predict_X = mon_predict_data.drop(columns=['target', 'MonthlyIncome'])\n",
    "from sklearn.ensemble import GradientBoostingRegressor\n",
    "gbdt = GradientBoostingRegressor()"
   ]
  },
  {
   "cell_type": "code",
   "execution_count": 20,
   "metadata": {},
   "outputs": [
    {
     "data": {
      "text/plain": [
       "GradientBoostingRegressor(alpha=0.9, criterion='friedman_mse', init=None,\n",
       "             learning_rate=0.1, loss='ls', max_depth=3, max_features=None,\n",
       "             max_leaf_nodes=None, min_impurity_decrease=0.0,\n",
       "             min_impurity_split=None, min_samples_leaf=1,\n",
       "             min_samples_split=2, min_weight_fraction_leaf=0.0,\n",
       "             n_estimators=100, n_iter_no_change=None, presort='auto',\n",
       "             random_state=None, subsample=1.0, tol=0.0001,\n",
       "             validation_fraction=0.1, verbose=0, warm_start=False)"
      ]
     },
     "execution_count": 20,
     "metadata": {},
     "output_type": "execute_result"
    }
   ],
   "source": [
    "gbdt.fit(mon_train_X, mon_train_y)"
   ]
  },
  {
   "cell_type": "code",
   "execution_count": 21,
   "metadata": {},
   "outputs": [],
   "source": [
    "mon_predict_y = gbdt.predict(mon_predict_X)\n",
    "mon_predict_data = mon_predict_X.join(pd.Series(mon_predict_y, name='MonthlyIncome', index=mon_predict_X.index)).drop(columns=['index'])\n",
    "mon_predict_y = pd.Series(mon_predict_y, name='MonthlyIncome', index=mon_predict_X.index)\n",
    "mon_incom_gbdt = pd.concat([mon_train_y, mon_predict_y]).copy()\n",
    "mon_incom_gbdt.sort_index(inplace=True)"
   ]
  },
  {
   "cell_type": "code",
   "execution_count": 22,
   "metadata": {},
   "outputs": [
    {
     "data": {
      "text/plain": [
       "array([[1.        , 0.98810819],\n",
       "       [0.98810819, 1.        ]])"
      ]
     },
     "execution_count": 22,
     "metadata": {},
     "output_type": "execute_result"
    }
   ],
   "source": [
    "#计算两种算法得到的数值之间的相关性\n",
    "np.corrcoef(mon_incom, mon_incom_gbdt)"
   ]
  },
  {
   "cell_type": "code",
   "execution_count": 23,
   "metadata": {},
   "outputs": [],
   "source": [
    "#对比数据的中值合均值\n",
    "mon_data = data_set.MonthlyIncome[data_set.MonthlyIncome.notnull()].copy()"
   ]
  },
  {
   "cell_type": "code",
   "execution_count": 24,
   "metadata": {},
   "outputs": [
    {
     "data": {
      "text/plain": [
       "<matplotlib.axes._subplots.AxesSubplot at 0x1962829abe0>"
      ]
     },
     "execution_count": 24,
     "metadata": {},
     "output_type": "execute_result"
    },
    {
     "data": {
      "image/png": "[encoded data removed]",
      "text/plain": [
       "<Figure size 432x288 with 1 Axes>"
      ]
     },
     "metadata": {
      "needs_background": "light"
     },
     "output_type": "display_data"
    }
   ],
   "source": [
    "# 画概率密度曲线\n",
    "sns.kdeplot(mon_data)"
   ]
  },
  {
   "cell_type": "code",
   "execution_count": 25,
   "metadata": {},
   "outputs": [
    {
     "name": "stdout",
     "output_type": "stream",
     "text": [
      "月收入的中值为：5400.00，月收入的均值为：6670.22\n"
     ]
    },
    {
     "data": {
      "image/png": "[encoded data removed]",
      "text/plain": [
       "<Figure size 432x288 with 1 Axes>"
      ]
     },
     "metadata": {
      "needs_background": "light"
     },
     "output_type": "display_data"
    }
   ],
   "source": [
    "#去掉一些极值再画曲线\n",
    "sns.kdeplot(mon_data[(mon_data > 0) & (mon_data < 20000)])\n",
    "print('月收入的中值为：%.2f，月收入的均值为：%.2f' %(mon_data.median(), mon_data.mean()))\n",
    "#可以看出其中均值相对于整体数据来说偏大，因此主要用中值"
   ]
  },
  {
   "cell_type": "code",
   "execution_count": 26,
   "metadata": {},
   "outputs": [],
   "source": [
    "data_set.MonthlyIncome = mon_incom_gbdt\n",
    "data_set.drop(columns=['index'], inplace=True)"
   ]
  },
  {
   "cell_type": "markdown",
   "metadata": {},
   "source": [
    "#### 3、异常值处理（对于数据中的异常值，这种异常值有可能是错配，出现异常情况，或极端值）"
   ]
  },
  {
   "cell_type": "code",
   "execution_count": 27,
   "metadata": {},
   "outputs": [
    {
     "name": "stdout",
     "output_type": "stream",
     "text": [
      "<class 'pandas.core.frame.DataFrame'>\n",
      "RangeIndex: 146076 entries, 0 to 146075\n",
      "Data columns (total 11 columns):\n",
      "target           146076 non-null int64\n",
      "percentage       146076 non-null float64\n",
      "age              146076 non-null int64\n",
      "30-59            146076 non-null int64\n",
      "DebtRatio        146076 non-null float64\n",
      "MonthlyIncome    146076 non-null float64\n",
      "open_loan        146076 non-null int64\n",
      "90-              146076 non-null int64\n",
      "estate_loan      146076 non-null int64\n",
      "60-89            146076 non-null int64\n",
      "Dependents       146076 non-null float64\n",
      "dtypes: float64(4), int64(7)\n",
      "memory usage: 12.3 MB\n"
     ]
    }
   ],
   "source": [
    "data_set.info()"
   ]
  },
  {
   "cell_type": "code",
   "execution_count": 28,
   "metadata": {},
   "outputs": [
    {
     "data": {
      "text/plain": [
       "count    146076.000000\n",
       "mean          5.922272\n",
       "std         250.070774\n",
       "min           0.000000\n",
       "25%           0.031018\n",
       "50%           0.158818\n",
       "75%           0.563684\n",
       "max       50708.000000\n",
       "Name: percentage, dtype: float64"
      ]
     },
     "execution_count": 28,
     "metadata": {},
     "output_type": "execute_result"
    }
   ],
   "source": [
    "# 首先查看percentage\n",
    "data_set['percentage'].describe()"
   ]
  },
  {
   "cell_type": "code",
   "execution_count": 29,
   "metadata": {},
   "outputs": [
    {
     "data": {
      "text/plain": [
       "<matplotlib.axes._subplots.AxesSubplot at 0x1962855dc50>"
      ]
     },
     "execution_count": 29,
     "metadata": {},
     "output_type": "execute_result"
    },
    {
     "data": {
      "image/png": "[encoded data removed]",
      "text/plain": [
       "<Figure size 432x288 with 1 Axes>"
      ]
     },
     "metadata": {
      "needs_background": "light"
     },
     "output_type": "display_data"
    }
   ],
   "source": [
    "sns.boxplot(x=data_set.percentage, orient='v')"
   ]
  },
  {
   "cell_type": "code",
   "execution_count": 30,
   "metadata": {},
   "outputs": [
    {
     "name": "stdout",
     "output_type": "stream",
     "text": [
      "0到1之间比例的值为：0.91\n"
     ]
    }
   ],
   "source": [
    "#### percentage应该是0到1\n",
    "print('0到1之间比例的值为：%.2f' \n",
    "      %(len(data_set.percentage[(data_set.percentage > 0) & (data_set.percentage < 1)]) / len(data_set.percentage)))"
   ]
  },
  {
   "cell_type": "code",
   "execution_count": 31,
   "metadata": {},
   "outputs": [],
   "source": [
    "#去除异常值\n",
    "data_set = data_set[(data_set.percentage > 0) & (data_set.percentage < 1)]"
   ]
  },
  {
   "cell_type": "code",
   "execution_count": 32,
   "metadata": {},
   "outputs": [
    {
     "data": {
      "text/plain": [
       "<matplotlib.axes._subplots.AxesSubplot at 0x19622aa8470>"
      ]
     },
     "execution_count": 32,
     "metadata": {},
     "output_type": "execute_result"
    },
    {
     "data": {
      "image/png": "[encoded data removed]",
      "text/plain": [
       "<Figure size 432x288 with 1 Axes>"
      ]
     },
     "metadata": {
      "needs_background": "light"
     },
     "output_type": "display_data"
    }
   ],
   "source": [
    "#查看年龄值\n",
    "sns.boxplot(x=data_set['age'], orient='v')"
   ]
  },
  {
   "cell_type": "code",
   "execution_count": 33,
   "metadata": {},
   "outputs": [
    {
     "data": {
      "text/plain": [
       "<matplotlib.axes._subplots.AxesSubplot at 0x19622af1f28>"
      ]
     },
     "execution_count": 33,
     "metadata": {},
     "output_type": "execute_result"
    },
    {
     "data": {
      "image/png": "[encoded data removed]",
      "text/plain": [
       "<Figure size 432x288 with 1 Axes>"
      ]
     },
     "metadata": {
      "needs_background": "light"
     },
     "output_type": "display_data"
    }
   ],
   "source": [
    "sns.kdeplot(data=data_set['age'])"
   ]
  },
  {
   "cell_type": "code",
   "execution_count": 34,
   "metadata": {},
   "outputs": [],
   "source": [
    "#去除异常值\n",
    "data_set = data_set[(data_set.age > 0) & (data_set.age < 100)]"
   ]
  },
  {
   "cell_type": "code",
   "execution_count": 35,
   "metadata": {},
   "outputs": [
    {
     "data": {
      "text/plain": [
       "(132394, 11)"
      ]
     },
     "execution_count": 35,
     "metadata": {},
     "output_type": "execute_result"
    }
   ],
   "source": [
    "data_set.shape"
   ]
  },
  {
   "cell_type": "code",
   "execution_count": 36,
   "metadata": {},
   "outputs": [
    {
     "data": {
      "text/plain": [
       "<matplotlib.axes._subplots.AxesSubplot at 0x19622b6b358>"
      ]
     },
     "execution_count": 36,
     "metadata": {},
     "output_type": "execute_result"
    },
    {
     "data": {
      "image/png": "[encoded data removed]",
      "text/plain": [
       "<Figure size 432x288 with 1 Axes>"
      ]
     },
     "metadata": {
      "needs_background": "light"
     },
     "output_type": "display_data"
    }
   ],
   "source": [
    "#查看DebtRationt列\n",
    "sns.boxplot(x=data_set.DebtRatio, orient='v')"
   ]
  },
  {
   "cell_type": "code",
   "execution_count": 37,
   "metadata": {},
   "outputs": [],
   "source": [
    "# 去除异常值\n",
    "data_set = data_set[(data_set.DebtRatio < 1) & (data_set.DebtRatio > 0)]"
   ]
  },
  {
   "cell_type": "code",
   "execution_count": 38,
   "metadata": {},
   "outputs": [
    {
     "data": {
      "text/plain": [
       "<matplotlib.axes._subplots.AxesSubplot at 0x1962286c8d0>"
      ]
     },
     "execution_count": 38,
     "metadata": {},
     "output_type": "execute_result"
    },
    {
     "data": {
      "image/png": "[encoded data removed]",
      "text/plain": [
       "<Figure size 432x288 with 1 Axes>"
      ]
     },
     "metadata": {
      "needs_background": "light"
     },
     "output_type": "display_data"
    }
   ],
   "source": [
    "sns.boxplot(x=data_set['30-59'], orient='v')"
   ]
  },
  {
   "cell_type": "code",
   "execution_count": 39,
   "metadata": {},
   "outputs": [
    {
     "data": {
      "image/png": "[encoded data removed]",
      "text/plain": [
       "<Figure size 432x288 with 1 Axes>"
      ]
     },
     "metadata": {
      "needs_background": "light"
     },
     "output_type": "display_data"
    }
   ],
   "source": [
    "fig = plt.figure()\n",
    "ax = fig.add_subplot(111)\n",
    "ax.boxplot([data_set['30-59'], data_set['60-89'], data_set['90-']])\n",
    "ax.set_xticklabels(['30-59','60-89','90-'])\n",
    "plt.show()"
   ]
  },
  {
   "cell_type": "code",
   "execution_count": 40,
   "metadata": {},
   "outputs": [],
   "source": [
    "# 去除以上三列的异常值\n",
    "data_set = data_set[data_set['30-59']<59]\n",
    "data_set = data_set[data_set['60-89']<89]\n",
    "data_set = data_set[data_set['90-']<90]"
   ]
  },
  {
   "cell_type": "code",
   "execution_count": 43,
   "metadata": {},
   "outputs": [],
   "source": [
    "#去除开放式贷款数量达到50个以上合不动产数量达到20处以上的\n",
    "data_set = data_set[data_set['open_loan'] <50]\n",
    "data_set = data_set[data_set['estate_loan'] < 20]"
   ]
  },
  {
   "cell_type": "code",
   "execution_count": 44,
   "metadata": {},
   "outputs": [
    {
     "data": {
      "text/plain": [
       "<matplotlib.axes._subplots.AxesSubplot at 0x196224dacc0>"
      ]
     },
     "execution_count": 44,
     "metadata": {},
     "output_type": "execute_result"
    },
    {
     "data": {
      "image/png": "[encoded data removed]",
      "text/plain": [
       "<Figure size 432x288 with 1 Axes>"
      ]
     },
     "metadata": {
      "needs_background": "light"
     },
     "output_type": "display_data"
    }
   ],
   "source": [
    "#查看亲属情况\n",
    "sns.boxplot(x=data_set.Dependents, orient='v')"
   ]
  },
  {
   "cell_type": "code",
   "execution_count": 45,
   "metadata": {},
   "outputs": [],
   "source": [
    "# 去掉亲属个数大于12的样本\n",
    "data_set = data_set[data_set.Dependents < 12]"
   ]
  },
  {
   "cell_type": "code",
   "execution_count": 46,
   "metadata": {
    "scrolled": true
   },
   "outputs": [
    {
     "data": {
      "text/plain": [
       "<matplotlib.axes._subplots.AxesSubplot at 0x1962253afd0>"
      ]
     },
     "execution_count": 46,
     "metadata": {},
     "output_type": "execute_result"
    },
    {
     "data": {
      "image/png": "[encoded data removed]",
      "text/plain": [
       "<Figure size 432x288 with 1 Axes>"
      ]
     },
     "metadata": {
      "needs_background": "light"
     },
     "output_type": "display_data"
    }
   ],
   "source": [
    "#查看月收入变量\n",
    "sns.boxplot(x=data_set.MonthlyIncome, orient='v')"
   ]
  },
  {
   "cell_type": "code",
   "execution_count": 47,
   "metadata": {},
   "outputs": [
    {
     "data": {
      "text/plain": [
       "<matplotlib.axes._subplots.AxesSubplot at 0x196274cdf60>"
      ]
     },
     "execution_count": 47,
     "metadata": {},
     "output_type": "execute_result"
    },
    {
     "data": {
      "image/png": "[encoded data removed]",
      "text/plain": [
       "<Figure size 432x288 with 1 Axes>"
      ]
     },
     "metadata": {
      "needs_background": "light"
     },
     "output_type": "display_data"
    }
   ],
   "source": [
    "sns.kdeplot(data_set.MonthlyIncome[data_set.MonthlyIncome < 50000])"
   ]
  },
  {
   "cell_type": "code",
   "execution_count": 48,
   "metadata": {},
   "outputs": [
    {
     "name": "stdout",
     "output_type": "stream",
     "text": [
      "月收入中异常值比例为：0.9971\n"
     ]
    }
   ],
   "source": [
    "print('月收入中异常值比例为：%.4f' %(len(data_set.MonthlyIncome[data_set.MonthlyIncome < 50000]) / len(data_set.MonthlyIncome)))"
   ]
  },
  {
   "cell_type": "code",
   "execution_count": 49,
   "metadata": {},
   "outputs": [],
   "source": [
    "data_set = data_set[data_set.MonthlyIncome < 50000]"
   ]
  },
  {
   "cell_type": "markdown",
   "metadata": {},
   "source": [
    "#### 4、查看相关性"
   ]
  },
  {
   "cell_type": "code",
   "execution_count": 50,
   "metadata": {},
   "outputs": [
    {
     "data": {
      "text/html": [
       "<div>\n",
       "<style scoped>\n",
       "    .dataframe tbody tr th:only-of-type {\n",
       "        vertical-align: middle;\n",
       "    }\n",
       "\n",
       "    .dataframe tbody tr th {\n",
       "        vertical-align: top;\n",
       "    }\n",
       "\n",
       "    .dataframe thead th {\n",
       "        text-align: right;\n",
       "    }\n",
       "</style>\n",
       "<table border=\"1\" class=\"dataframe\">\n",
       "  <thead>\n",
       "    <tr style=\"text-align: right;\">\n",
       "      <th></th>\n",
       "      <th>target</th>\n",
       "      <th>percentage</th>\n",
       "      <th>age</th>\n",
       "      <th>30-59</th>\n",
       "      <th>DebtRatio</th>\n",
       "      <th>MonthlyIncome</th>\n",
       "      <th>open_loan</th>\n",
       "      <th>90-</th>\n",
       "      <th>estate_loan</th>\n",
       "      <th>60-89</th>\n",
       "      <th>Dependents</th>\n",
       "    </tr>\n",
       "  </thead>\n",
       "  <tbody>\n",
       "    <tr>\n",
       "      <th>target</th>\n",
       "      <td>1.000000</td>\n",
       "      <td>0.243474</td>\n",
       "      <td>-0.096489</td>\n",
       "      <td>0.248007</td>\n",
       "      <td>0.064871</td>\n",
       "      <td>-0.049211</td>\n",
       "      <td>-0.025722</td>\n",
       "      <td>0.298895</td>\n",
       "      <td>-0.014677</td>\n",
       "      <td>0.240015</td>\n",
       "      <td>0.043931</td>\n",
       "    </tr>\n",
       "    <tr>\n",
       "      <th>percentage</th>\n",
       "      <td>0.243474</td>\n",
       "      <td>1.000000</td>\n",
       "      <td>-0.281625</td>\n",
       "      <td>0.225670</td>\n",
       "      <td>0.185320</td>\n",
       "      <td>-0.088135</td>\n",
       "      <td>-0.177545</td>\n",
       "      <td>0.225848</td>\n",
       "      <td>-0.072339</td>\n",
       "      <td>0.176683</td>\n",
       "      <td>0.088311</td>\n",
       "    </tr>\n",
       "    <tr>\n",
       "      <th>age</th>\n",
       "      <td>-0.096489</td>\n",
       "      <td>-0.281625</td>\n",
       "      <td>1.000000</td>\n",
       "      <td>-0.062499</td>\n",
       "      <td>-0.087144</td>\n",
       "      <td>0.093185</td>\n",
       "      <td>0.176940</td>\n",
       "      <td>-0.072840</td>\n",
       "      <td>0.058716</td>\n",
       "      <td>-0.062344</td>\n",
       "      <td>-0.216792</td>\n",
       "    </tr>\n",
       "    <tr>\n",
       "      <th>30-59</th>\n",
       "      <td>0.248007</td>\n",
       "      <td>0.225670</td>\n",
       "      <td>-0.062499</td>\n",
       "      <td>1.000000</td>\n",
       "      <td>0.096971</td>\n",
       "      <td>0.000496</td>\n",
       "      <td>0.067283</td>\n",
       "      <td>0.209478</td>\n",
       "      <td>0.029977</td>\n",
       "      <td>0.282542</td>\n",
       "      <td>0.054754</td>\n",
       "    </tr>\n",
       "    <tr>\n",
       "      <th>DebtRatio</th>\n",
       "      <td>0.064871</td>\n",
       "      <td>0.185320</td>\n",
       "      <td>-0.087144</td>\n",
       "      <td>0.096971</td>\n",
       "      <td>1.000000</td>\n",
       "      <td>-0.099357</td>\n",
       "      <td>0.330707</td>\n",
       "      <td>-0.006833</td>\n",
       "      <td>0.516274</td>\n",
       "      <td>0.035100</td>\n",
       "      <td>0.092358</td>\n",
       "    </tr>\n",
       "    <tr>\n",
       "      <th>MonthlyIncome</th>\n",
       "      <td>-0.049211</td>\n",
       "      <td>-0.088135</td>\n",
       "      <td>0.093185</td>\n",
       "      <td>0.000496</td>\n",
       "      <td>-0.099357</td>\n",
       "      <td>1.000000</td>\n",
       "      <td>0.263545</td>\n",
       "      <td>-0.057982</td>\n",
       "      <td>0.387208</td>\n",
       "      <td>-0.033181</td>\n",
       "      <td>0.177574</td>\n",
       "    </tr>\n",
       "    <tr>\n",
       "      <th>open_loan</th>\n",
       "      <td>-0.025722</td>\n",
       "      <td>-0.177545</td>\n",
       "      <td>0.176940</td>\n",
       "      <td>0.067283</td>\n",
       "      <td>0.330707</td>\n",
       "      <td>0.263545</td>\n",
       "      <td>1.000000</td>\n",
       "      <td>-0.096089</td>\n",
       "      <td>0.407047</td>\n",
       "      <td>-0.028694</td>\n",
       "      <td>0.034100</td>\n",
       "    </tr>\n",
       "    <tr>\n",
       "      <th>90-</th>\n",
       "      <td>0.298895</td>\n",
       "      <td>0.225848</td>\n",
       "      <td>-0.072840</td>\n",
       "      <td>0.209478</td>\n",
       "      <td>-0.006833</td>\n",
       "      <td>-0.057982</td>\n",
       "      <td>-0.096089</td>\n",
       "      <td>1.000000</td>\n",
       "      <td>-0.066425</td>\n",
       "      <td>0.282138</td>\n",
       "      <td>0.029530</td>\n",
       "    </tr>\n",
       "    <tr>\n",
       "      <th>estate_loan</th>\n",
       "      <td>-0.014677</td>\n",
       "      <td>-0.072339</td>\n",
       "      <td>0.058716</td>\n",
       "      <td>0.029977</td>\n",
       "      <td>0.516274</td>\n",
       "      <td>0.387208</td>\n",
       "      <td>0.407047</td>\n",
       "      <td>-0.066425</td>\n",
       "      <td>1.000000</td>\n",
       "      <td>-0.025219</td>\n",
       "      <td>0.128899</td>\n",
       "    </tr>\n",
       "    <tr>\n",
       "      <th>60-89</th>\n",
       "      <td>0.240015</td>\n",
       "      <td>0.176683</td>\n",
       "      <td>-0.062344</td>\n",
       "      <td>0.282542</td>\n",
       "      <td>0.035100</td>\n",
       "      <td>-0.033181</td>\n",
       "      <td>-0.028694</td>\n",
       "      <td>0.282138</td>\n",
       "      <td>-0.025219</td>\n",
       "      <td>1.000000</td>\n",
       "      <td>0.031478</td>\n",
       "    </tr>\n",
       "    <tr>\n",
       "      <th>Dependents</th>\n",
       "      <td>0.043931</td>\n",
       "      <td>0.088311</td>\n",
       "      <td>-0.216792</td>\n",
       "      <td>0.054754</td>\n",
       "      <td>0.092358</td>\n",
       "      <td>0.177574</td>\n",
       "      <td>0.034100</td>\n",
       "      <td>0.029530</td>\n",
       "      <td>0.128899</td>\n",
       "      <td>0.031478</td>\n",
       "      <td>1.000000</td>\n",
       "    </tr>\n",
       "  </tbody>\n",
       "</table>\n",
       "</div>"
      ],
      "text/plain": [
       "                 target  percentage       age     30-59  DebtRatio  \\\n",
       "target         1.000000    0.243474 -0.096489  0.248007   0.064871   \n",
       "percentage     0.243474    1.000000 -0.281625  0.225670   0.185320   \n",
       "age           -0.096489   -0.281625  1.000000 -0.062499  -0.087144   \n",
       "30-59          0.248007    0.225670 -0.062499  1.000000   0.096971   \n",
       "DebtRatio      0.064871    0.185320 -0.087144  0.096971   1.000000   \n",
       "MonthlyIncome -0.049211   -0.088135  0.093185  0.000496  -0.099357   \n",
       "open_loan     -0.025722   -0.177545  0.176940  0.067283   0.330707   \n",
       "90-            0.298895    0.225848 -0.072840  0.209478  -0.006833   \n",
       "estate_loan   -0.014677   -0.072339  0.058716  0.029977   0.516274   \n",
       "60-89          0.240015    0.176683 -0.062344  0.282542   0.035100   \n",
       "Dependents     0.043931    0.088311 -0.216792  0.054754   0.092358   \n",
       "\n",
       "               MonthlyIncome  open_loan       90-  estate_loan     60-89  \\\n",
       "target             -0.049211  -0.025722  0.298895    -0.014677  0.240015   \n",
       "percentage         -0.088135  -0.177545  0.225848    -0.072339  0.176683   \n",
       "age                 0.093185   0.176940 -0.072840     0.058716 -0.062344   \n",
       "30-59               0.000496   0.067283  0.209478     0.029977  0.282542   \n",
       "DebtRatio          -0.099357   0.330707 -0.006833     0.516274  0.035100   \n",
       "MonthlyIncome       1.000000   0.263545 -0.057982     0.387208 -0.033181   \n",
       "open_loan           0.263545   1.000000 -0.096089     0.407047 -0.028694   \n",
       "90-                -0.057982  -0.096089  1.000000    -0.066425  0.282138   \n",
       "estate_loan         0.387208   0.407047 -0.066425     1.000000 -0.025219   \n",
       "60-89              -0.033181  -0.028694  0.282138    -0.025219  1.000000   \n",
       "Dependents          0.177574   0.034100  0.029530     0.128899  0.031478   \n",
       "\n",
       "               Dependents  \n",
       "target           0.043931  \n",
       "percentage       0.088311  \n",
       "age             -0.216792  \n",
       "30-59            0.054754  \n",
       "DebtRatio        0.092358  \n",
       "MonthlyIncome    0.177574  \n",
       "open_loan        0.034100  \n",
       "90-              0.029530  \n",
       "estate_loan      0.128899  \n",
       "60-89            0.031478  \n",
       "Dependents       1.000000  "
      ]
     },
     "execution_count": 50,
     "metadata": {},
     "output_type": "execute_result"
    }
   ],
   "source": [
    "data_set.corr()"
   ]
  },
  {
   "cell_type": "code",
   "execution_count": 51,
   "metadata": {},
   "outputs": [
    {
     "data": {
      "text/plain": [
       "<matplotlib.axes._subplots.AxesSubplot at 0x19627520ba8>"
      ]
     },
     "execution_count": 51,
     "metadata": {},
     "output_type": "execute_result"
    },
    {
     "data": {
      "image/png": "[encoded data removed]",
      "text/plain": [
       "<Figure size 432x288 with 2 Axes>"
      ]
     },
     "metadata": {
      "needs_background": "light"
     },
     "output_type": "display_data"
    }
   ],
   "source": [
    "sns.heatmap(data_set.corr(),cmap = plt.cm.RdYlBu_r, vmin = -0.25, annot = True, vmax = 0.6)"
   ]
  },
  {
   "cell_type": "code",
   "execution_count": 54,
   "metadata": {},
   "outputs": [
    {
     "data": {
      "text/plain": [
       "<matplotlib.axes._subplots.AxesSubplot at 0x1962bc40240>"
      ]
     },
     "execution_count": 54,
     "metadata": {},
     "output_type": "execute_result"
    },
    {
     "data": {
      "image/png": "[encoded data removed]",
      "text/plain": [
       "<Figure size 432x288 with 1 Axes>"
      ]
     },
     "metadata": {
      "needs_background": "light"
     },
     "output_type": "display_data"
    }
   ],
   "source": [
    "data_set.corr()['target'].plot(kind='bar')"
   ]
  },
  {
   "cell_type": "markdown",
   "metadata": {},
   "source": [
    "#### 从柱状图中可以看出，违约与90天内违约记录关系比较大，而且存在一些相关性较小的变量"
   ]
  },
  {
   "cell_type": "markdown",
   "metadata": {},
   "source": [
    "### 特征工程\n",
    "#### 1、构建新的变量（构建新变量主要有对已有变量依据之间的关系，从中构建新的变量）"
   ]
  },
  {
   "cell_type": "code",
   "execution_count": 56,
   "metadata": {},
   "outputs": [],
   "source": [
    "#查看样本的总贷款数量\n",
    "sum_loan = data_set.open_loan + data_set.estate_loan\n",
    "#查看样本从30到59天违约记录到60到89天违约记录的变化\n",
    "change_89_59 = data_set['60-89'] - data_set['30-59']\n",
    "#查看样本从90天违约记录到60到89天违约记录的变化\n",
    "change_90_89 = data_set['90-'] - data_set['60-89']"
   ]
  },
  {
   "cell_type": "code",
   "execution_count": 57,
   "metadata": {},
   "outputs": [],
   "source": [
    "data_set['sum_loan'] = sum_loan\n",
    "data_set['change_89_59'] = change_89_59\n",
    "data_set['change_90_89'] = change_90_89"
   ]
  },
  {
   "cell_type": "code",
   "execution_count": 58,
   "metadata": {},
   "outputs": [
    {
     "data": {
      "text/plain": [
       "change_89_59    -0.143933\n",
       "age             -0.096489\n",
       "MonthlyIncome   -0.049211\n",
       "sum_loan        -0.026131\n",
       "open_loan       -0.025722\n",
       "estate_loan     -0.014677\n",
       "Dependents       0.043931\n",
       "DebtRatio        0.064871\n",
       "change_90_89     0.121586\n",
       "60-89            0.240015\n",
       "percentage       0.243474\n",
       "30-59            0.248007\n",
       "90-              0.298895\n",
       "target           1.000000\n",
       "Name: target, dtype: float64"
      ]
     },
     "execution_count": 58,
     "metadata": {},
     "output_type": "execute_result"
    }
   ],
   "source": [
    "data_set.corr()['target'].sort_values()"
   ]
  },
  {
   "cell_type": "markdown",
   "metadata": {},
   "source": [
    "#### 2、特征选择，主要依据重要性等（由于这里特征不多，因此不做特征选择了）"
   ]
  },
  {
   "cell_type": "markdown",
   "metadata": {},
   "source": [
    "### 建模"
   ]
  },
  {
   "cell_type": "code",
   "execution_count": 61,
   "metadata": {},
   "outputs": [],
   "source": [
    "from sklearn.model_selection import train_test_split\n",
    "data_X, val_X, data_y, val_y = train_test_split(data_set.drop(columns=['target']), data_set['target'] ,test_size=0.3, random_state=0)"
   ]
  },
  {
   "cell_type": "code",
   "execution_count": 62,
   "metadata": {},
   "outputs": [],
   "source": [
    "#在不做特征分箱的情况下，进行建模\n",
    "from sklearn.linear_model import LogisticRegression\n",
    "lr = LogisticRegression()"
   ]
  },
  {
   "cell_type": "code",
   "execution_count": 63,
   "metadata": {},
   "outputs": [
    {
     "name": "stderr",
     "output_type": "stream",
     "text": [
      "C:\\Users\\feigeZzzz\\Anaconda3\\lib\\site-packages\\sklearn\\linear_model\\logistic.py:433: FutureWarning: Default solver will be changed to 'lbfgs' in 0.22. Specify a solver to silence this warning.\n",
      "  FutureWarning)\n"
     ]
    },
    {
     "data": {
      "text/plain": [
       "LogisticRegression(C=1.0, class_weight=None, dual=False, fit_intercept=True,\n",
       "          intercept_scaling=1, max_iter=100, multi_class='warn',\n",
       "          n_jobs=None, penalty='l2', random_state=None, solver='warn',\n",
       "          tol=0.0001, verbose=0, warm_start=False)"
      ]
     },
     "execution_count": 63,
     "metadata": {},
     "output_type": "execute_result"
    }
   ],
   "source": [
    "lr.fit(data_X, data_y)"
   ]
  },
  {
   "cell_type": "code",
   "execution_count": 64,
   "metadata": {},
   "outputs": [],
   "source": [
    "val_y_predict = lr.predict(val_X)"
   ]
  },
  {
   "cell_type": "code",
   "execution_count": 65,
   "metadata": {},
   "outputs": [],
   "source": [
    "from sklearn.metrics import roc_auc_score"
   ]
  },
  {
   "cell_type": "code",
   "execution_count": 66,
   "metadata": {},
   "outputs": [
    {
     "data": {
      "text/plain": [
       "0.563619347448011"
      ]
     },
     "execution_count": 66,
     "metadata": {},
     "output_type": "execute_result"
    }
   ],
   "source": [
    "roc_auc_score(val_y, val_y_predict)"
   ]
  },
  {
   "cell_type": "code",
   "execution_count": 67,
   "metadata": {},
   "outputs": [],
   "source": [
    "from sklearn.ensemble import GradientBoostingRegressor"
   ]
  },
  {
   "cell_type": "code",
   "execution_count": 68,
   "metadata": {},
   "outputs": [
    {
     "data": {
      "text/plain": [
       "GradientBoostingRegressor(alpha=0.9, criterion='friedman_mse', init=None,\n",
       "             learning_rate=0.1, loss='ls', max_depth=3, max_features=None,\n",
       "             max_leaf_nodes=None, min_impurity_decrease=0.0,\n",
       "             min_impurity_split=None, min_samples_leaf=1,\n",
       "             min_samples_split=2, min_weight_fraction_leaf=0.0,\n",
       "             n_estimators=100, n_iter_no_change=None, presort='auto',\n",
       "             random_state=None, subsample=1.0, tol=0.0001,\n",
       "             validation_fraction=0.1, verbose=0, warm_start=False)"
      ]
     },
     "execution_count": 68,
     "metadata": {},
     "output_type": "execute_result"
    }
   ],
   "source": [
    "gb = GradientBoostingRegressor()\n",
    "gb.fit(data_X, data_y)"
   ]
  },
  {
   "cell_type": "code",
   "execution_count": 69,
   "metadata": {},
   "outputs": [],
   "source": [
    "val_y_predict_2 = gb.predict(val_X)"
   ]
  },
  {
   "cell_type": "code",
   "execution_count": 70,
   "metadata": {},
   "outputs": [
    {
     "data": {
      "text/plain": [
       "0.8390527061106208"
      ]
     },
     "execution_count": 70,
     "metadata": {},
     "output_type": "execute_result"
    }
   ],
   "source": [
    "roc_auc_score(val_y, val_y_predict_2)"
   ]
  },
  {
   "cell_type": "code",
   "execution_count": 73,
   "metadata": {},
   "outputs": [
    {
     "name": "stdout",
     "output_type": "stream",
     "text": [
      "Looking in indexes: https://pypi.tuna.tsinghua.edu.cn/simple\n",
      "Collecting lightgbm\n",
      "  Downloading https://pypi.tuna.tsinghua.edu.cn/packages/c7/0b/a183c06e7778893b2f12bb3e2cdab57f142b4e49cd25cc643047f714e74c/lightgbm-2.3.0-py2.py3-none-win_amd64.whl (543kB)\n",
      "Requirement already satisfied: numpy in c:\\users\\feigezzzz\\anaconda3\\lib\\site-packages (from lightgbm) (1.16.2)\n",
      "Requirement already satisfied: scikit-learn in c:\\users\\feigezzzz\\anaconda3\\lib\\site-packages (from lightgbm) (0.20.3)\n",
      "Requirement already satisfied: scipy in c:\\users\\feigezzzz\\anaconda3\\lib\\site-packages (from lightgbm) (1.2.1)\n",
      "Installing collected packages: lightgbm\n",
      "Successfully installed lightgbm-2.3.0\n"
     ]
    }
   ],
   "source": [
    "!pip install lightgbm -i https://pypi.tuna.tsinghua.edu.cn/simple"
   ]
  },
  {
   "cell_type": "code",
   "execution_count": 74,
   "metadata": {},
   "outputs": [],
   "source": [
    "import lightgbm as lgb"
   ]
  },
  {
   "cell_type": "code",
   "execution_count": 80,
   "metadata": {},
   "outputs": [],
   "source": [
    "gbm = lgb.LGBMClassifier(num_leaves=30, max_depth=5, n_estimators=150)"
   ]
  },
  {
   "cell_type": "code",
   "execution_count": 81,
   "metadata": {},
   "outputs": [
    {
     "data": {
      "text/plain": [
       "LGBMClassifier(boosting_type='gbdt', class_weight=None, colsample_bytree=1.0,\n",
       "        importance_type='split', learning_rate=0.1, max_depth=5,\n",
       "        min_child_samples=20, min_child_weight=0.001, min_split_gain=0.0,\n",
       "        n_estimators=150, n_jobs=-1, num_leaves=30, objective=None,\n",
       "        random_state=None, reg_alpha=0.0, reg_lambda=0.0, silent=True,\n",
       "        subsample=1.0, subsample_for_bin=200000, subsample_freq=0)"
      ]
     },
     "execution_count": 81,
     "metadata": {},
     "output_type": "execute_result"
    }
   ],
   "source": [
    "gbm.fit(data_X, data_y)"
   ]
  },
  {
   "cell_type": "code",
   "execution_count": 82,
   "metadata": {},
   "outputs": [],
   "source": [
    "val_y_predict_3 = gbm.predict(val_X)"
   ]
  },
  {
   "cell_type": "code",
   "execution_count": 83,
   "metadata": {},
   "outputs": [
    {
     "data": {
      "text/plain": [
       "0.5625574684148396"
      ]
     },
     "execution_count": 83,
     "metadata": {},
     "output_type": "execute_result"
    }
   ],
   "source": [
    "roc_auc_score(val_y, val_y_predict_3)"
   ]
  },
  {
   "cell_type": "code",
   "execution_count": null,
   "metadata": {},
   "outputs": [],
   "source": []
  }
 ],
 "metadata": {
  "kernelspec": {
   "display_name": "Python 3",
   "language": "python",
   "name": "python3"
  },
  "language_info": {
   "codemirror_mode": {
    "name": "ipython",
    "version": 3
   },
   "file_extension": ".py",
   "mimetype": "text/x-python",
   "name": "python",
   "nbconvert_exporter": "python",
   "pygments_lexer": "ipython3",
   "version": "3.7.3"
  }
 },
 "nbformat": 4,
 "nbformat_minor": 2
}
